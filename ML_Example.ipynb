{
 "cells": [
  {
   "cell_type": "code",
   "execution_count": 1,
   "id": "de59cd3c-ad25-4907-9bff-8c2e5f3041cd",
   "metadata": {},
   "outputs": [
    {
     "name": "stdout",
     "output_type": "stream",
     "text": [
      "Error Results: [0.017415614206195064, 0.22061709907509244, 0.0858421308555201, 0.18055897370927174, 0.28060222847529004, 0.14773640100525434, 0.18055897370927165, 0.18055897370927165, 0.12729866833576833, 0.0491987258301468]\n",
      "Cost Results: [0.03483122841239013, 0.4412341981501849, 0.1716842617110402, 0.3611179474185435, 0.5612044569505801, 0.2954728020105087, 0.3611179474185433, 0.3611179474185433, 0.25459733667153667, 0.0983974516602936]\n"
     ]
    }
   ],
   "source": [
    "import numpy as np\n",
    "\n",
    "# Example data\n",
    "np.random.seed(0)  # For reproducibility\n",
    "x = np.random.rand(10, 2)  # 10 samples, 2 features\n",
    "y = np.random.rand(10)     # 10 target values\n",
    "\n",
    "# Define necessary functions\n",
    "def analytic_sol(x, y):\n",
    "    return np.linalg.pinv(x.T @ x) @ x.T @ y\n",
    "\n",
    "def testError(x, y, betta):\n",
    "    predictions = x @ betta\n",
    "    return np.mean((predictions - y) ** 2)\n",
    "\n",
    "def cost(x, y, betta):\n",
    "    predictions = x @ betta\n",
    "    return np.sum((predictions - y) ** 2)\n",
    "\n",
    "# lin1 function\n",
    "def lin1(x, y):\n",
    "    n = int(x.shape[0])\n",
    "    k = int(0.8*n)\n",
    "    eresult = []\n",
    "    costresult = []\n",
    "    for j in range(10):\n",
    "        a = np.arange(n)\n",
    "        np.random.shuffle(a)\n",
    "        b = a[:k]\n",
    "        c = a[k:]\n",
    "        x_trn = x[b,:]\n",
    "        x_tst = x[c,:]\n",
    "        y_trn = y[b]\n",
    "        y_tst = y[c]\n",
    "        betta = analytic_sol(x_trn, y_trn)\n",
    "        eresult.append(testError(x_tst, y_tst, betta))\n",
    "        costresult.append(cost(x_tst, y_tst, betta))\n",
    "    return eresult, costresult\n",
    "\n",
    "# Run the function\n",
    "eresult, costresult = lin1(x, y)\n",
    "print(\"Error Results:\", eresult)\n",
    "print(\"Cost Results:\", costresult)\n"
   ]
  },
  {
   "cell_type": "code",
   "execution_count": null,
   "id": "3c4e72b8-c631-461a-9fd1-61bdb0122444",
   "metadata": {},
   "outputs": [],
   "source": []
  }
 ],
 "metadata": {
  "kernelspec": {
   "display_name": "Python 3 (ipykernel)",
   "language": "python",
   "name": "python3"
  },
  "language_info": {
   "codemirror_mode": {
    "name": "ipython",
    "version": 3
   },
   "file_extension": ".py",
   "mimetype": "text/x-python",
   "name": "python",
   "nbconvert_exporter": "python",
   "pygments_lexer": "ipython3",
   "version": "3.11.7"
  }
 },
 "nbformat": 4,
 "nbformat_minor": 5
}
