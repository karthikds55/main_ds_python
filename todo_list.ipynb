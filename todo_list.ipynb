{
 "cells": [
  {
   "cell_type": "code",
   "execution_count": null,
   "id": "1cc67541-e2f6-4f8a-804a-f88162523962",
   "metadata": {},
   "outputs": [
    {
     "name": "stdout",
     "output_type": "stream",
     "text": [
      "\n",
      "Options:\n",
      "1. Add Task\n",
      "2. View Tasks\n",
      "3. Remove Task\n",
      "4. Exit\n"
     ]
    },
    {
     "name": "stdin",
     "output_type": "stream",
     "text": [
      "Choose an option:  1\n",
      "Enter a new task:  week one python project\n"
     ]
    },
    {
     "name": "stdout",
     "output_type": "stream",
     "text": [
      "Task 'week one python project' added.\n",
      "\n",
      "Options:\n",
      "1. Add Task\n",
      "2. View Tasks\n",
      "3. Remove Task\n",
      "4. Exit\n"
     ]
    },
    {
     "name": "stdin",
     "output_type": "stream",
     "text": [
      "Choose an option:  2\n"
     ]
    },
    {
     "name": "stdout",
     "output_type": "stream",
     "text": [
      "\n",
      "Your To-Do List:\n",
      "1. week one python project\n",
      "\n",
      "Options:\n",
      "1. Add Task\n",
      "2. View Tasks\n",
      "3. Remove Task\n",
      "4. Exit\n"
     ]
    }
   ],
   "source": [
    "import os\n",
    "\n",
    "# Function to load tasks from file\n",
    "def load_tasks():\n",
    "    if os.path.exists(\"tasks.txt\"):\n",
    "        with open(\"tasks.txt\", \"r\") as file:\n",
    "            tasks = file.read().splitlines()\n",
    "    else:\n",
    "        tasks = []\n",
    "    return tasks\n",
    "\n",
    "# Function to save tasks to file\n",
    "def save_tasks(tasks):\n",
    "    with open(\"tasks.txt\", \"w\") as file:\n",
    "        for task in tasks:\n",
    "            file.write(f\"{task}\\n\")\n",
    "\n",
    "# Function to add a task\n",
    "def add_task(tasks):\n",
    "    task = input(\"Enter a new task: \")\n",
    "    tasks.append(task)\n",
    "    print(f\"Task '{task}' added.\")\n",
    "    save_tasks(tasks)\n",
    "\n",
    "# Function to view all tasks\n",
    "def view_tasks(tasks):\n",
    "    if tasks:\n",
    "        print(\"\\nYour To-Do List:\")\n",
    "        for i, task in enumerate(tasks, 1):\n",
    "            print(f\"{i}. {task}\")\n",
    "    else:\n",
    "        print(\"Your to-do list is empty.\")\n",
    "\n",
    "# Function to remove a task\n",
    "def remove_task(tasks):\n",
    "    view_tasks(tasks)\n",
    "    try:\n",
    "        task_number = int(input(\"\\nEnter the task number to remove: \"))\n",
    "        if 1 <= task_number <= len(tasks):\n",
    "            removed_task = tasks.pop(task_number - 1)\n",
    "            print(f\"Task '{removed_task}' removed.\")\n",
    "            save_tasks(tasks)\n",
    "        else:\n",
    "            print(\"Invalid task number.\")\n",
    "    except ValueError:\n",
    "        print(\"Please enter a valid number.\")\n",
    "\n",
    "# Main program loop\n",
    "def main():\n",
    "    tasks = load_tasks()\n",
    "    \n",
    "    while True:\n",
    "        print(\"\\nOptions:\")\n",
    "        print(\"1. Add Task\")\n",
    "        print(\"2. View Tasks\")\n",
    "        print(\"3. Remove Task\")\n",
    "        print(\"4. Exit\")\n",
    "        \n",
    "        choice = input(\"Choose an option: \")\n",
    "        \n",
    "        if choice == \"1\":\n",
    "            add_task(tasks)\n",
    "        elif choice == \"2\":\n",
    "            view_tasks(tasks)\n",
    "        elif choice == \"3\":\n",
    "            remove_task(tasks)\n",
    "        elif choice == \"4\":\n",
    "            print(\"Goodbye!\")\n",
    "            break\n",
    "        else:\n",
    "            print(\"Invalid option, please try again.\")\n",
    "\n",
    "if __name__ == \"__main__\":\n",
    "    main()\n"
   ]
  },
  {
   "cell_type": "code",
   "execution_count": null,
   "id": "20cb1458-edfc-4021-bd8d-188d641974b3",
   "metadata": {},
   "outputs": [],
   "source": []
  }
 ],
 "metadata": {
  "kernelspec": {
   "display_name": "Python 3 (ipykernel)",
   "language": "python",
   "name": "python3"
  },
  "language_info": {
   "codemirror_mode": {
    "name": "ipython",
    "version": 3
   },
   "file_extension": ".py",
   "mimetype": "text/x-python",
   "name": "python",
   "nbconvert_exporter": "python",
   "pygments_lexer": "ipython3",
   "version": "3.11.7"
  }
 },
 "nbformat": 4,
 "nbformat_minor": 5
}
